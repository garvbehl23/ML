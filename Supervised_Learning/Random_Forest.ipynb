{
 "cells": [
  {
   "metadata": {},
   "cell_type": "markdown",
   "source": [
    "# Random Forest\n",
    "\n",
    "## 1. What is Random Forest?\n",
    "Random Forest is an ensemble machine learning algorithm that creates multiple decision trees and combines their outputs to produce a final prediction.\n",
    "It is based on the concept of bagging (Bootstrap Aggregating) and random feature selection.\n",
    "Random Forest can be used for both classification and regression tasks.\n",
    "\n",
    "---\n",
    "\n",
    "## 2. How Random Forest Works\n",
    "\n",
    "### Step 1: Bootstrapping the Data\n",
    "- From the original dataset, multiple subsets are created by sampling with replacement.\n",
    "- Each subset will have the same number of rows as the original dataset, but because of sampling with replacement, some rows will be repeated while others will be left out.\n",
    "\n",
    "### Step 2: Random Feature Selection\n",
    "- When building each decision tree, the algorithm does not consider all features at every split.\n",
    "- Instead, it randomly selects a subset of features and chooses the best split from that subset.\n",
    "- This reduces correlation between the trees.\n",
    "\n",
    "### Step 3: Building Decision Trees\n",
    "- Each subset of data is used to build a decision tree.\n",
    "- The trees are typically grown to a large depth without pruning.\n",
    "- Because each tree is built on different data and different features, the trees are diverse.\n",
    "\n",
    "### Step 4: Making Predictions\n",
    "- For classification tasks:\n",
    "  - Each tree predicts a class label.\n",
    "  - The final prediction is made by taking the majority vote across all trees.\n",
    "- For regression tasks:\n",
    "  - Each tree predicts a numerical value.\n",
    "  - The final prediction is made by averaging the outputs from all trees.\n",
    "\n",
    "---\n",
    "\n",
    "## 3. Advantages of Random Forest\n",
    "- **Reduces Overfitting**: Averaging predictions from multiple trees reduces variance compared to a single decision tree.\n",
    "- **Robustness**: Works well with noisy data and can handle missing values.\n",
    "- **Feature Importance**: Automatically provides estimates of which features are most important in prediction.\n",
    "- **Versatility**: Can handle both numerical and categorical features.\n",
    "- **Scalability**: Can be parallelized because each tree is built independently.\n",
    "\n",
    "---\n",
    "\n",
    "## 4. Disadvantages of Random Forest\n",
    "- **Computationally Intensive**: Training many trees can be slower and require more memory compared to a single decision tree.\n",
    "- **Less Interpretability**: Harder to interpret than a single decision tree because there are many trees involved.\n",
    "- **Possible Overfitting**: If the number of trees is too small or trees are too deep for small datasets, it can still overfit.\n",
    "\n",
    "---\n",
    "\n",
    "## 5. Real-World Analogy\n",
    "Imagine you need to make a decision on whether a new restaurant is worth trying. Instead of relying on the opinion of one friend (a single decision tree), you ask twenty different friends (the forest), each of whom might have tried different dishes on different days. You then make your decision based on the majority opinion. This collective approach is generally more reliable than relying on a single opinion.\n"
   ],
   "id": "15387429beab30c6"
  },
  {
   "cell_type": "code",
   "id": "initial_id",
   "metadata": {
    "collapsed": true,
    "ExecuteTime": {
     "end_time": "2025-08-13T17:28:19.188548Z",
     "start_time": "2025-08-13T17:28:16.893395Z"
    }
   },
   "source": [
    "import pandas as pd\n",
    "from sklearn.datasets import load_iris\n",
    "from sklearn.model_selection import train_test_split\n",
    "from sklearn.ensemble import RandomForestClassifier\n",
    "from sklearn.metrics import accuracy_score, classification_report\n",
    "import matplotlib.pyplot as plt\n",
    "import seaborn as sns\n",
    "data = load_iris()\n",
    "X = pd.DataFrame(data.data, columns=data.feature_names)\n",
    "y = pd.Series(data.target)\n",
    "X_train, X_test, y_train, y_test = train_test_split(X, y, test_size=0.2, random_state=42)\n"
   ],
   "outputs": [],
   "execution_count": 1
  },
  {
   "metadata": {
    "ExecuteTime": {
     "end_time": "2025-08-13T17:31:30.227711Z",
     "start_time": "2025-08-13T17:31:30.083171Z"
    }
   },
   "cell_type": "code",
   "source": [
    "rf = RandomForestClassifier(n_estimators=100, random_state=42)\n",
    "rf.fit(X_train, y_train)\n",
    "y_pred = rf.predict(X_test)\n",
    "print(\"Accuracy:\", accuracy_score(y_test, y_pred))\n",
    "print(classification_report(y_test, y_pred))\n"
   ],
   "id": "3030d25338893fea",
   "outputs": [
    {
     "name": "stdout",
     "output_type": "stream",
     "text": [
      "Accuracy: 1.0\n",
      "              precision    recall  f1-score   support\n",
      "\n",
      "           0       1.00      1.00      1.00        10\n",
      "           1       1.00      1.00      1.00         9\n",
      "           2       1.00      1.00      1.00        11\n",
      "\n",
      "    accuracy                           1.00        30\n",
      "   macro avg       1.00      1.00      1.00        30\n",
      "weighted avg       1.00      1.00      1.00        30\n",
      "\n"
     ]
    }
   ],
   "execution_count": 2
  },
  {
   "metadata": {
    "ExecuteTime": {
     "end_time": "2025-08-13T17:31:51.872794Z",
     "start_time": "2025-08-13T17:31:51.592215Z"
    }
   },
   "cell_type": "code",
   "source": [
    "importances = rf.feature_importances_\n",
    "feature_names = X.columns\n",
    "feature_df = pd.DataFrame({'Feature': feature_names, 'Importance': importances})\n",
    "feature_df = feature_df.sort_values(by='Importance', ascending=False)\n",
    "plt.figure(figsize=(8, 5))\n",
    "sns.barplot(x='Importance', y='Feature', data=feature_df)\n",
    "plt.title('Random Forest Feature Importances')\n",
    "plt.show()\n"
   ],
   "id": "da1abccb5e213bfa",
   "outputs": [
    {
     "data": {
      "text/plain": [
       "<Figure size 800x500 with 1 Axes>"
      ],
      "image/png": "[encoded data removed]"
     },
     "metadata": {},
     "output_type": "display_data"
    }
   ],
   "execution_count": 3
  },
  {
   "metadata": {
    "ExecuteTime": {
     "end_time": "2025-08-13T17:32:31.763332Z",
     "start_time": "2025-08-13T17:32:18.504721Z"
    }
   },
   "cell_type": "code",
   "source": [
    "from sklearn.model_selection import GridSearchCV\n",
    "param_grid = {\n",
    "    'n_estimators': [50, 100, 200],\n",
    "    'max_depth': [None, 5, 10],\n",
    "    'min_samples_split': [2, 5],\n",
    "    'min_samples_leaf': [1, 2],\n",
    "    'bootstrap': [True, False]\n",
    "}\n",
    "grid_search = GridSearchCV(estimator=RandomForestClassifier(random_state=42),\n",
    "                           param_grid=param_grid,\n",
    "                           cv=3,\n",
    "                           n_jobs=-1,\n",
    "                           verbose=1)\n",
    "grid_search.fit(X_train, y_train)\n",
    "print(\"Best Parameters:\", grid_search.best_params_)\n",
    "best_model = grid_search.best_estimator_\n",
    "best_pred = best_model.predict(X_test)\n",
    "print(\"Tuned Model Accuracy:\", accuracy_score(y_test, best_pred))"
   ],
   "id": "7a5da0e38dc7a89e",
   "outputs": [
    {
     "name": "stdout",
     "output_type": "stream",
     "text": [
      "Fitting 3 folds for each of 72 candidates, totalling 216 fits\n",
      "Best Parameters: {'bootstrap': True, 'max_depth': None, 'min_samples_leaf': 1, 'min_samples_split': 2, 'n_estimators': 50}\n",
      "Tuned Model Accuracy: 1.0\n"
     ]
    }
   ],
   "execution_count": 4
  },
  {
   "metadata": {},
   "cell_type": "code",
   "outputs": [],
   "execution_count": null,
   "source": "",
   "id": "ee40c7d1aa880fc0"
  }
 ],
 "metadata": {
  "kernelspec": {
   "display_name": "Python 3",
   "language": "python",
   "name": "python3"
  },
  "language_info": {
   "codemirror_mode": {
    "name": "ipython",
    "version": 2
   },
   "file_extension": ".py",
   "mimetype": "text/x-python",
   "name": "python",
   "nbconvert_exporter": "python",
   "pygments_lexer": "ipython2",
   "version": "2.7.6"
  }
 },
 "nbformat": 4,
 "nbformat_minor": 5
}
