{
 "cells": [
  {
   "cell_type": "code",
   "execution_count": null,
   "id": "initial_id",
   "metadata": {
    "collapsed": true
   },
   "outputs": [],
   "source": [
    ""
   ]
  },
  {
   "metadata": {},
   "cell_type": "markdown",
   "source": [
    "# XGBoost - Detailed Explanation\n",
    "\n",
    "## 1. What is XGBoost?\n",
    "XGBoost (Extreme Gradient Boosting) is an advanced implementation of Gradient Boosting designed for speed, efficiency, and regularization.\n",
    "It is widely used in machine learning competitions and industry applications due to its performance.\n",
    "\n",
    "---\n",
    "\n",
    "## 2. Why XGBoost is Better than Gradient Boosting\n",
    "- Faster training (parallelization, efficient memory usage).\n",
    "- Handles missing values automatically.\n",
    "- Uses second-order optimization (gradient + hessian).\n",
    "- Built-in regularization (L1 and L2).\n",
    "- Supports advanced features like early stopping.\n",
    "\n",
    "---\n",
    "\n",
    "## 3. Important Hyperparameters\n",
    "- **n_estimators**: Number of boosting rounds.\n",
    "- **learning_rate (eta)**: Contribution of each tree.\n",
    "- **max_depth**: Controls tree complexity.\n",
    "- **subsample**: Fraction of rows used per tree.\n",
    "- **colsample_bytree**: Fraction of features used per tree.\n",
    "- **reg_lambda (L2)** and **reg_alpha (L1)**: Regularization parameters.\n",
    "\n",
    "---\n",
    "\n",
    "## 4. Advantages\n",
    "- High accuracy, often state-of-the-art.\n",
    "- Robust to overfitting (with tuning).\n",
    "- Works with both regression and classification.\n",
    "- Excellent for large-scale datasets.\n",
    "\n",
    "---\n",
    "\n",
    "## 5. Disadvantages\n",
    "- More complex than Random Forest or Gradient Boosting.\n",
    "- Requires careful hyperparameter tuning.\n",
    "- Can be slower on very small datasets.\n",
    "\n",
    "---\n",
    "\n",
    "## 6. Use Cases\n",
    "- Kaggle competitions (common winner model).\n",
    "- Fraud detection.\n",
    "- Sales forecasting.\n",
    "- Search ranking and recommendation systems.\n"
   ],
   "id": "5487c16646299f75"
  },
  {
   "metadata": {},
   "cell_type": "code",
   "outputs": [],
   "execution_count": null,
   "source": "",
   "id": "19192b2bc21d998a"
  },
  {
   "metadata": {
    "ExecuteTime": {
     "end_time": "2025-08-19T04:46:31.546836Z",
     "start_time": "2025-08-19T04:46:31.371856Z"
    }
   },
   "cell_type": "code",
   "source": [
    "import pandas as pd\n",
    "import numpy as np\n",
    "from sklearn.model_selection import train_test_split\n",
    "from sklearn.datasets import load_iris\n",
    "from sklearn.metrics import classification_report, accuracy_score\n",
    "import matplotlib.pyplot as plt\n",
    "import seaborn as sns\n",
    "import xgboost as xgb"
   ],
   "id": "6ed72aaad59ce1fe",
   "outputs": [],
   "execution_count": 2
  },
  {
   "metadata": {
    "ExecuteTime": {
     "end_time": "2025-08-19T04:46:46.492282Z",
     "start_time": "2025-08-19T04:46:46.436825Z"
    }
   },
   "cell_type": "code",
   "source": [
    "data = load_iris()\n",
    "X = pd.DataFrame(data.data, columns=data.feature_names)\n",
    "y = pd.Series(data.target)\n",
    "X_train, X_test, y_train, y_test = train_test_split(\n",
    "    X, y, test_size=0.2, random_state=42\n",
    ")"
   ],
   "id": "81e5a5c448f794ac",
   "outputs": [],
   "execution_count": 3
  },
  {
   "metadata": {
    "ExecuteTime": {
     "end_time": "2025-08-19T04:47:12.918801Z",
     "start_time": "2025-08-19T04:47:12.704387Z"
    }
   },
   "cell_type": "code",
   "source": [
    "xgb_clf = xgb.XGBClassifier(\n",
    "    n_estimators=100,\n",
    "    learning_rate=0.1,\n",
    "    max_depth=3,\n",
    "    subsample=1.0,\n",
    "    colsample_bytree=1.0,\n",
    "    random_state=42,\n",
    "    use_label_encoder=False,\n",
    "    eval_metric=\"mlogloss\"\n",
    ")\n",
    "xgb_clf.fit(X_train, y_train)\n",
    "y_pred = xgb_clf.predict(X_test)\n",
    "print(\"Accuracy:\", accuracy_score(y_test, y_pred))\n",
    "print(classification_report(y_test, y_pred))"
   ],
   "id": "79c5c0f53557e4da",
   "outputs": [
    {
     "name": "stdout",
     "output_type": "stream",
     "text": [
      "Accuracy: 1.0\n",
      "              precision    recall  f1-score   support\n",
      "\n",
      "           0       1.00      1.00      1.00        10\n",
      "           1       1.00      1.00      1.00         9\n",
      "           2       1.00      1.00      1.00        11\n",
      "\n",
      "    accuracy                           1.00        30\n",
      "   macro avg       1.00      1.00      1.00        30\n",
      "weighted avg       1.00      1.00      1.00        30\n",
      "\n"
     ]
    },
    {
     "name": "stderr",
     "output_type": "stream",
     "text": [
      "C:\\Users\\GARV BEHL\\AppData\\Local\\Programs\\Python\\Python313\\Lib\\site-packages\\xgboost\\training.py:183: UserWarning: [10:17:12] WARNING: C:\\actions-runner\\_work\\xgboost\\xgboost\\src\\learner.cc:738: \n",
      "Parameters: { \"use_label_encoder\" } are not used.\n",
      "\n",
      "  bst.update(dtrain, iteration=i, fobj=obj)\n"
     ]
    }
   ],
   "execution_count": 4
  },
  {
   "metadata": {
    "ExecuteTime": {
     "end_time": "2025-08-19T04:47:35.219827Z",
     "start_time": "2025-08-19T04:47:34.747693Z"
    }
   },
   "cell_type": "code",
   "source": [
    "xgb.plot_importance(xgb_clf)\n",
    "plt.show()"
   ],
   "id": "4150908ac9cc9c29",
   "outputs": [
    {
     "data": {
      "text/plain": [
       "<Figure size 640x480 with 1 Axes>"
      ],
      "image/png": "[encoded data removed]"
     },
     "metadata": {},
     "output_type": "display_data"
    }
   ],
   "execution_count": 5
  },
  {
   "metadata": {
    "ExecuteTime": {
     "end_time": "2025-08-19T04:48:09.657136Z",
     "start_time": "2025-08-19T04:47:59.166158Z"
    }
   },
   "cell_type": "code",
   "source": [
    "from sklearn.model_selection import GridSearchCV\n",
    "param_grid = {\n",
    "    'n_estimators': [50, 100, 200],\n",
    "    'max_depth': [3, 5, 7],\n",
    "    'learning_rate': [0.01, 0.1, 0.2],\n",
    "    'subsample': [0.8, 1.0],\n",
    "    'colsample_bytree': [0.8, 1.0]\n",
    "}\n",
    "grid_search = GridSearchCV(\n",
    "    estimator=xgb.XGBClassifier(use_label_encoder=False, eval_metric=\"mlogloss\"),\n",
    "    param_grid=param_grid,\n",
    "    cv=3,\n",
    "    n_jobs=-1,\n",
    "    verbose=1\n",
    ")\n",
    "grid_search.fit(X_train, y_train)\n",
    "print(\"Best Parameters:\", grid_search.best_params_)\n",
    "best_model = grid_search.best_estimator_\n",
    "best_pred = best_model.predict(X_test)\n",
    "print(\"Tuned Model Accuracy:\", accuracy_score(y_test, best_pred))"
   ],
   "id": "c957139af1a82a8a",
   "outputs": [
    {
     "name": "stdout",
     "output_type": "stream",
     "text": [
      "Fitting 3 folds for each of 108 candidates, totalling 324 fits\n",
      "Best Parameters: {'colsample_bytree': 1.0, 'learning_rate': 0.01, 'max_depth': 3, 'n_estimators': 50, 'subsample': 0.8}\n",
      "Tuned Model Accuracy: 1.0\n"
     ]
    },
    {
     "name": "stderr",
     "output_type": "stream",
     "text": [
      "C:\\Users\\GARV BEHL\\AppData\\Local\\Programs\\Python\\Python313\\Lib\\site-packages\\xgboost\\training.py:183: UserWarning: [10:18:09] WARNING: C:\\actions-runner\\_work\\xgboost\\xgboost\\src\\learner.cc:738: \n",
      "Parameters: { \"use_label_encoder\" } are not used.\n",
      "\n",
      "  bst.update(dtrain, iteration=i, fobj=obj)\n"
     ]
    }
   ],
   "execution_count": 6
  },
  {
   "metadata": {},
   "cell_type": "code",
   "outputs": [],
   "execution_count": null,
   "source": "",
   "id": "e6204edcc37e5ce7"
  }
 ],
 "metadata": {
  "kernelspec": {
   "display_name": "Python 3",
   "language": "python",
   "name": "python3"
  },
  "language_info": {
   "codemirror_mode": {
    "name": "ipython",
    "version": 2
   },
   "file_extension": ".py",
   "mimetype": "text/x-python",
   "name": "python",
   "nbconvert_exporter": "python",
   "pygments_lexer": "ipython2",
   "version": "2.7.6"
  }
 },
 "nbformat": 4,
 "nbformat_minor": 5
}
