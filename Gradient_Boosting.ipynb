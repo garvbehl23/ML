{
 "cells": [
  {
   "cell_type": "code",
   "execution_count": null,
   "id": "initial_id",
   "metadata": {
    "collapsed": true
   },
   "outputs": [],
   "source": [
    ""
   ]
  },
  {
   "metadata": {},
   "cell_type": "markdown",
   "source": [
    "# Gradient Boosting - Detailed Explanation\n",
    "\n",
    "## 1. What is Gradient Boosting?\n",
    "Gradient Boosting is an ensemble method that builds models sequentially.\n",
    "Each new model tries to correct the mistakes of the previous ones.\n",
    "Unlike Random Forest (parallel trees), Gradient Boosting adds trees one at a time and optimizes using gradients of the loss function.\n",
    "\n",
    "---\n",
    "\n",
    "## 2. How Gradient Boosting Works\n",
    "1. Start with a weak model (e.g., shallow decision tree).\n",
    "2. Compute errors (residuals) between predictions and actual values.\n",
    "3. Fit a new tree to predict the residuals.\n",
    "4. Update predictions with a learning rate to control contribution.\n",
    "5. Repeat for many iterations until the model converges.\n",
    "\n",
    "---\n",
    "\n",
    "## 3. Key Hyperparameters\n",
    "- **n_estimators**: Number of trees (iterations).\n",
    "- **learning_rate**: Step size (lower → more robust, needs more trees).\n",
    "- **max_depth**: Depth of each individual tree.\n",
    "- **subsample**: Fraction of data used to fit each tree.\n",
    "- **min_samples_split / min_samples_leaf**: Controls tree complexity.\n",
    "\n",
    "---\n",
    "\n",
    "## 4. Advantages\n",
    "- High accuracy.\n",
    "- Can model complex nonlinear relationships.\n",
    "- Provides feature importance.\n",
    "- Often outperforms Random Forest in competitions.\n",
    "\n",
    "---\n",
    "\n",
    "## 5. Disadvantages\n",
    "- Training can be slow for large datasets.\n",
    "- Sensitive to hyperparameters (requires tuning).\n",
    "- Can overfit if `learning_rate` is too high or too many trees are added.\n",
    "\n",
    "---\n",
    "\n",
    "## 6. Real-World Applications\n",
    "- Customer churn prediction\n",
    "- Credit risk scoring\n",
    "- Sales forecasting\n",
    "- Fraud detection\n"
   ],
   "id": "f68af0b339d95ace"
  },
  {
   "metadata": {
    "ExecuteTime": {
     "end_time": "2025-08-18T15:32:48.120751Z",
     "start_time": "2025-08-18T15:32:45.865746Z"
    }
   },
   "cell_type": "code",
   "source": [
    "import pandas as pd\n",
    "from sklearn.datasets import load_iris\n",
    "from sklearn.model_selection import train_test_split\n",
    "from sklearn.ensemble import GradientBoostingClassifier\n",
    "from sklearn.metrics import accuracy_score, classification_report\n",
    "import matplotlib.pyplot as plt\n",
    "import seaborn as sns\n",
    "data = load_iris()\n",
    "X = pd.DataFrame(data.data, columns=data.feature_names)\n",
    "y = pd.Series(data.target)\n",
    "X_train, X_test, y_train, y_test = train_test_split(\n",
    "    X, y, test_size=0.2, random_state=42\n",
    ")\n"
   ],
   "id": "f33f31e0494dd125",
   "outputs": [],
   "execution_count": 1
  },
  {
   "metadata": {
    "ExecuteTime": {
     "end_time": "2025-08-18T15:32:53.472925Z",
     "start_time": "2025-08-18T15:32:53.304210Z"
    }
   },
   "cell_type": "code",
   "source": [
    "gb = GradientBoostingClassifier(\n",
    "    n_estimators=100,\n",
    "    learning_rate=0.1,\n",
    "    max_depth=3,\n",
    "    random_state=42\n",
    ")\n",
    "gb.fit(X_train, y_train)\n",
    "y_pred = gb.predict(X_test)\n",
    "print(\"Accuracy:\", accuracy_score(y_test, y_pred))\n",
    "print(classification_report(y_test, y_pred))"
   ],
   "id": "7b3ee48a2d5c87b5",
   "outputs": [
    {
     "name": "stdout",
     "output_type": "stream",
     "text": [
      "Accuracy: 1.0\n",
      "              precision    recall  f1-score   support\n",
      "\n",
      "           0       1.00      1.00      1.00        10\n",
      "           1       1.00      1.00      1.00         9\n",
      "           2       1.00      1.00      1.00        11\n",
      "\n",
      "    accuracy                           1.00        30\n",
      "   macro avg       1.00      1.00      1.00        30\n",
      "weighted avg       1.00      1.00      1.00        30\n",
      "\n"
     ]
    }
   ],
   "execution_count": 2
  },
  {
   "metadata": {
    "ExecuteTime": {
     "end_time": "2025-08-18T15:33:07.058518Z",
     "start_time": "2025-08-18T15:33:06.834667Z"
    }
   },
   "cell_type": "code",
   "source": [
    "importances = gb.feature_importances_\n",
    "feature_names = X.columns\n",
    "feature_df = pd.DataFrame({'Feature': feature_names, 'Importance': importances})\n",
    "feature_df = feature_df.sort_values(by='Importance', ascending=False)\n",
    "plt.figure(figsize=(8, 5))\n",
    "sns.barplot(x='Importance', y='Feature', data=feature_df)\n",
    "plt.title('Gradient Boosting Feature Importances')\n",
    "plt.show()"
   ],
   "id": "9b3dd6bc9f92e89c",
   "outputs": [
    {
     "data": {
      "text/plain": [
       "<Figure size 800x500 with 1 Axes>"
      ],
      "image/png": "[encoded data removed]"
     },
     "metadata": {},
     "output_type": "display_data"
    }
   ],
   "execution_count": 3
  },
  {
   "metadata": {
    "ExecuteTime": {
     "end_time": "2025-08-18T15:33:50.185078Z",
     "start_time": "2025-08-18T15:33:39.178325Z"
    }
   },
   "cell_type": "code",
   "source": [
    "from sklearn.model_selection import GridSearchCV\n",
    "param_grid = {\n",
    "    'n_estimators': [50, 100, 200],\n",
    "    'learning_rate': [0.01, 0.1, 0.2],\n",
    "    'max_depth': [2, 3, 5],\n",
    "    'subsample': [0.8, 1.0]\n",
    "}\n",
    "grid_search = GridSearchCV(\n",
    "    estimator=GradientBoostingClassifier(random_state=42),\n",
    "    param_grid=param_grid,\n",
    "    cv=3,\n",
    "    n_jobs=-1,\n",
    "    verbose=1\n",
    ")\n",
    "grid_search.fit(X_train, y_train)\n",
    "print(\"Best Parameters:\", grid_search.best_params_)\n",
    "best_model = grid_search.best_estimator_\n",
    "best_pred = best_model.predict(X_test)\n",
    "print(\"Tuned Model Accuracy:\", accuracy_score(y_test, best_pred))"
   ],
   "id": "bcb1742aff3c8dab",
   "outputs": [
    {
     "name": "stdout",
     "output_type": "stream",
     "text": [
      "Fitting 3 folds for each of 54 candidates, totalling 162 fits\n",
      "Best Parameters: {'learning_rate': 0.01, 'max_depth': 2, 'n_estimators': 50, 'subsample': 1.0}\n",
      "Tuned Model Accuracy: 1.0\n"
     ]
    }
   ],
   "execution_count": 4
  },
  {
   "metadata": {},
   "cell_type": "code",
   "outputs": [],
   "execution_count": null,
   "source": "",
   "id": "53b16c9ec1470c59"
  }
 ],
 "metadata": {
  "kernelspec": {
   "display_name": "Python 3",
   "language": "python",
   "name": "python3"
  },
  "language_info": {
   "codemirror_mode": {
    "name": "ipython",
    "version": 2
   },
   "file_extension": ".py",
   "mimetype": "text/x-python",
   "name": "python",
   "nbconvert_exporter": "python",
   "pygments_lexer": "ipython2",
   "version": "2.7.6"
  }
 },
 "nbformat": 4,
 "nbformat_minor": 5
}
